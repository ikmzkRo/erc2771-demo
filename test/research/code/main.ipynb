{
 "cells": [
  {
   "cell_type": "code",
   "execution_count": 10,
   "metadata": {},
   "outputs": [
    {
     "name": "stdout",
     "output_type": "stream",
     "text": [
      "   ·----------------------------------------------|----------------------------|-------------|-----------------------------·\n",
      "6   |  \u001b[90mGasOfNFTBulkMint\u001b[39m  ·  BulkMint_Req...                                                                       \n",
      "7   ·····················|························...                                                                       \n",
      "8   |  \u001b[90mGasOfNFTBulkMint\u001b[39m  ·  BulkMint_Req...                                                                       \n",
      "9   ·····················|························...                                                                       \n",
      "10  |  \u001b[32m\u001b[1mDeployments\u001b[22m\u001b[39m             ...                                                                       \n",
      "11  ··············································...                                                                       \n",
      "12  |  GasOfNFTBulkMint                           ...                                                                       \n",
      "13  ·---------------------------------------------...                                                                       \n"
     ]
    }
   ],
   "source": [
    "import pandas as pd\n",
    "\n",
    "# CSVファイルのパスを指定\n",
    "csv_path = \"../data/gas-report.csv\"\n",
    "\n",
    "# CSVファイルを読み込む\n",
    "df = pd.read_csv(csv_path)\n",
    "\n",
    "# 最初の6行を削除\n",
    "df = df.iloc[6:]\n",
    "\n",
    "# データフレームの中身を表示\n",
    "pd.set_option(\"display.max_columns\", None)  # すべてのカラムを表示\n",
    "print(df)\n"
   ]
  },
  {
   "cell_type": "code",
   "execution_count": null,
   "metadata": {},
   "outputs": [],
   "source": []
  }
 ],
 "metadata": {
  "kernelspec": {
   "display_name": "Python 3 (ipykernel)",
   "language": "python",
   "name": "python3"
  },
  "language_info": {
   "codemirror_mode": {
    "name": "ipython",
    "version": 3
   },
   "file_extension": ".py",
   "mimetype": "text/x-python",
   "name": "python",
   "nbconvert_exporter": "python",
   "pygments_lexer": "ipython3",
   "version": "3.8.10"
  }
 },
 "nbformat": 4,
 "nbformat_minor": 4
}
